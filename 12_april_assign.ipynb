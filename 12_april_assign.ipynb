{
 "cells": [
  {
   "cell_type": "code",
   "execution_count": null,
   "id": "4155f254-8f4c-41ed-885c-6584c65c5f27",
   "metadata": {},
   "outputs": [],
   "source": [
    "\"\"\"Q1. How does bagging reduce overfitting in decision trees?\n",
    "\n",
    "    Ans: Bagging reduces overfitting in decision trees by creating multiple bootstrap samples from the original dataset and training individual trees on these samples. \n",
    "         By averaging or voting the predictions of multiple trees, bagging reduces the variance and helps to generalize better, thus reducing overfitting.\n",
    "\"\"\""
   ]
  },
  {
   "cell_type": "code",
   "execution_count": null,
   "id": "9aa68c4c-2a74-4170-8937-fd0961087887",
   "metadata": {},
   "outputs": [],
   "source": [
    "\"\"\"Q2. What are the advantages and disadvantages of using different types of base learners in bagging?\n",
    "\n",
    "    Ans: The advantages of using different types of base learners in bagging include increased diversity, improved robustness, and the ability to capture different aspects of \n",
    "         the data. However, disadvantages can arise in terms of increased complexity, potential conflicts between models, and the need for careful selection and integration of \n",
    "         diverse learners.\n",
    "\"\"\""
   ]
  },
  {
   "cell_type": "code",
   "execution_count": null,
   "id": "c8326ae2-bed3-4df1-bf63-ff5140630568",
   "metadata": {},
   "outputs": [],
   "source": [
    "\"\"\"Q3. How does the choice of base learner affect the bias-variance tradeoff in bagging?\n",
    "\n",
    "    Ans: The choice of base learner in bagging can affect the bias-variance tradeoff. Using more complex base learners can reduce bias but increase variance, while using \n",
    "         simpler base learners can reduce variance but increase bias. It's important to strike a balance to optimize the tradeoff based on the specific problem and data.\n",
    "\"\"\""
   ]
  },
  {
   "cell_type": "code",
   "execution_count": null,
   "id": "0a97e4af-1c45-421b-ae0e-503848b23c88",
   "metadata": {},
   "outputs": [],
   "source": [
    "\"\"\"Q4. Can bagging be used for both classification and regression tasks? How does it differ in each case?\n",
    "\n",
    "    Ans: Yes, bagging can be used for both classification and regression tasks. In classification, bagging combines predictions through majority voting. In regression, \n",
    "         bagging combines predictions through averaging. The difference lies in the aggregation method used based on the nature of the task.\n",
    "\"\"\""
   ]
  },
  {
   "cell_type": "code",
   "execution_count": null,
   "id": "add6ee18-e638-428b-b971-143857ad8262",
   "metadata": {},
   "outputs": [],
   "source": [
    "\"\"\"Q5. What is the role of ensemble size in bagging? How many models should be included in the ensemble?\n",
    "\n",
    "    Ans: The ensemble size in bagging refers to the number of models included in the ensemble. A larger ensemble size generally reduces the variance but increases computational \n",
    "         cost. The optimal ensemble size depends on the dataset and problem complexity, and it's typically determined through experimentation and validation.\n",
    "\"\"\""
   ]
  },
  {
   "cell_type": "code",
   "execution_count": null,
   "id": "eb92ba98-0789-453c-8b25-9655ad401ec0",
   "metadata": {},
   "outputs": [],
   "source": [
    "\"\"\"Q6. Can you provide an example of a real-world application of bagging in machine learning?\n",
    "\n",
    "    Ans: One real-world application of bagging is in medical diagnosis. Bagging can be used to train multiple decision trees on different subsets of patient data, and their \n",
    "         predictions are aggregated to provide more accurate and robust diagnosis predictions, improving the reliability of medical diagnostic systems.\n",
    "\"\"\""
   ]
  }
 ],
 "metadata": {
  "kernelspec": {
   "display_name": "Python 3 (ipykernel)",
   "language": "python",
   "name": "python3"
  },
  "language_info": {
   "codemirror_mode": {
    "name": "ipython",
    "version": 3
   },
   "file_extension": ".py",
   "mimetype": "text/x-python",
   "name": "python",
   "nbconvert_exporter": "python",
   "pygments_lexer": "ipython3",
   "version": "3.10.8"
  }
 },
 "nbformat": 4,
 "nbformat_minor": 5
}
